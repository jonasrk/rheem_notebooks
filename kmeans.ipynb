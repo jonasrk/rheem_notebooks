{
 "cells": [
  {
   "cell_type": "code",
   "execution_count": 60,
   "metadata": {
    "collapsed": false,
    "deletable": true,
    "editable": true
   },
   "outputs": [],
   "source": [
    "# from http://flothesof.github.io/k-means-numpy.html\n",
    "import numpy as np\n",
    "\n",
    "def init_points(n):\n",
    "    points = np.array(np.vstack(((np.random.randn(4*n, 2) * 0.75 + np.array([1, 0])),\n",
    "                  (np.random.randn(3*n, 2) * 0.25 + np.array([-0.5, 0.5])),\n",
    "                  (np.random.randn(2*n, 2) * 0.5 + np.array([-0.5, -0.5])))))\n",
    "    return points\n",
    "\n",
    "def initialize_centroids(points, k):\n",
    "    \"\"\"returns k centroids from the initial points\"\"\"\n",
    "    centroids = points.copy()\n",
    "    np.random.shuffle(centroids)\n",
    "    return centroids[:k]\n",
    "\n",
    "def closest_centroid(points, centroids):\n",
    "    \"\"\"returns an array containing the index to the nearest centroid for each point\"\"\"\n",
    "    distances = np.sqrt(((points - centroids[:, np.newaxis])**2).sum(axis=2))\n",
    "    return np.argmin(distances, axis=0)\n",
    "\n",
    "\n",
    "def move_centroids(mode, points, closest, centroids):\n",
    "    \"\"\"returns the new centroids assigned from the points closest to them\"\"\"\n",
    "    filtered_centroids = []\n",
    "    removed_centroids = np.array([])\n",
    "    removed_points = np.array([])\n",
    "    new_centroids = np.array([points[closest==k].mean(axis=0) for k in range(centroids.shape[0])])\n",
    "    max_change = 0.0\n",
    "    for k in range(centroids.shape[0]):\n",
    "        T = (new_centroids[k] - centroids[k])**2\n",
    "        max = np.max(np.abs(T))\n",
    "        if max > max_change:\n",
    "                max_change = max\n",
    "        if mode == 'purge':\n",
    "            if max > epsilon:\n",
    "                filtered_centroids.append(new_centroids[k])\n",
    "            else:\n",
    "                if len(removed_centroids) == 0:\n",
    "                    removed_centroids = new_centroids[k]\n",
    "                else:\n",
    "                    removed_centroids = np.vstack([removed_centroids, new_centroids[k]])\n",
    "                if len(removed_points) == 0:\n",
    "                    removed_points = points[closest==k]\n",
    "                else:\n",
    "                    removed_points = np.vstack([removed_points, points[closest==k]])\n",
    "                points = points[closest!=k]\n",
    "                closest = closest[closest!=k]\n",
    "    \n",
    "    if mode == 'purge':     \n",
    "        return np.array(filtered_centroids), max_change, removed_centroids, removed_points, points\n",
    "    else:\n",
    "        return new_centroids, max_change"
   ]
  },
  {
   "cell_type": "code",
   "execution_count": 61,
   "metadata": {
    "collapsed": false,
    "deletable": true,
    "editable": true
   },
   "outputs": [
    {
     "name": "stdout",
     "output_type": "stream",
     "text": [
      "\n",
      "\n",
      " # Purge:\n",
      "2\n",
      "0.00047516822814941406\n",
      "[[ 1.18794585  0.69914995]\n",
      " [ 0.45945467 -0.11772929]\n",
      " [ 0.3346291  -0.86062769]\n",
      " [ 0.09278195  0.43772456]\n",
      " [ 2.02034665  0.96548026]\n",
      " [-0.71433012 -0.36640297]\n",
      " [ 2.1209256  -0.33389227]\n",
      " [-0.37332088  0.12721121]\n",
      " [-0.46012165  0.61180686]\n",
      " [-0.55454865  1.03463183]\n",
      " [-0.62556945  0.2794715 ]\n",
      " [-0.6887723   0.86802257]\n",
      " [-0.35525434  0.18103078]\n",
      " [-0.46858808  0.69800068]\n",
      " [ 0.05096218 -0.87881361]\n",
      " [-0.82826421 -1.18126276]\n",
      " [-0.36620965 -0.23277629]\n",
      " [ 0.17262809 -0.43493479]]\n",
      "<class 'numpy.ndarray'>\n",
      "(18, 2)\n",
      "[[ 1.18794585  0.69914995]\n",
      " [ 0.09278195  0.43772456]\n",
      " [ 2.02034665  0.96548026]\n",
      " [-0.37332088  0.12721121]\n",
      " [-0.46012165  0.61180686]\n",
      " [-0.55454865  1.03463183]\n",
      " [-0.62556945  0.2794715 ]\n",
      " [-0.6887723   0.86802257]\n",
      " [-0.35525434  0.18103078]\n",
      " [-0.46858808  0.69800068]\n",
      " [ 0.45945467 -0.11772929]\n",
      " [ 0.3346291  -0.86062769]\n",
      " [-0.71433012 -0.36640297]\n",
      " [ 2.1209256  -0.33389227]\n",
      " [ 0.05096218 -0.87881361]\n",
      " [-0.82826421 -1.18126276]\n",
      " [-0.36620965 -0.23277629]\n",
      " [ 0.17262809 -0.43493479]]\n",
      "<class 'numpy.ndarray'>\n",
      "(18, 2)\n"
     ]
    },
    {
     "data": {
      "image/png": "[encoded data removed]",
      "text/plain": [
       "<matplotlib.figure.Figure at 0x104316f60>"
      ]
     },
     "metadata": {},
     "output_type": "display_data"
    },
    {
     "name": "stdout",
     "output_type": "stream",
     "text": [
      "\n",
      "\n",
      " # Normal:\n",
      "2\n",
      "0.0007548332214355469\n"
     ]
    },
    {
     "data": {
      "image/png": "[encoded data removed]",
      "text/plain": [
       "<matplotlib.figure.Figure at 0x1042f2f98>"
      ]
     },
     "metadata": {},
     "output_type": "display_data"
    }
   ],
   "source": [
    "import time\n",
    "\n",
    "times = {'normal': {},\n",
    "         'purge' : {}}\n",
    "\n",
    "n_points = 2 # 20k\n",
    "n_centroids = 2\n",
    "exp = 1\n",
    "epsilon = 0.0002\n",
    "\n",
    "while exp < 2:\n",
    "    exp += 1\n",
    "    n_centroids = n_centroids\n",
    "    n_points = n_points\n",
    "    epsilon = epsilon\n",
    "    \n",
    "    # PURGE\n",
    "    \n",
    "    original_points = init_points(n_points)\n",
    "    points = original_points\n",
    "    original_centroids = initialize_centroids(points, n_centroids)\n",
    "    centroids = original_centroids\n",
    "    \n",
    "    max_change = epsilon\n",
    "    \n",
    "    \n",
    "    start_time = time.time()\n",
    "    removed_centroids = []\n",
    "    removed_points = []\n",
    "    while max_change >= epsilon:\n",
    "        closest = closest_centroid(points, centroids)\n",
    "        centroids, max_change, new_removed_centroids, new_removed_points, points = move_centroids(\"purge\", points, closest, centroids)\n",
    "        if len(removed_centroids) == 0:\n",
    "            removed_centroids = new_removed_centroids\n",
    "        else:\n",
    "            removed_centroids = np.vstack([removed_centroids, new_removed_centroids])\n",
    "        if len(removed_points) == 0:\n",
    "            removed_points = new_removed_points\n",
    "        else:\n",
    "            removed_points = np.vstack([removed_points, new_removed_points])\n",
    "    stopped_time = time.time() - start_time\n",
    "    \n",
    "    print('\\n\\n # Purge:')\n",
    "    print(n_points)\n",
    "    print(stopped_time)\n",
    "    times['purge'][n_points] = stopped_time\n",
    "    \n",
    "    print(original_points)\n",
    "    print(type(original_points))\n",
    "    print(original_points.shape)\n",
    "    print(removed_points)\n",
    "    print(type(removed_points))\n",
    "    print(removed_points.shape)\n",
    "    \n",
    "    closest = closest_centroid(removed_points, removed_centroids)\n",
    "    \n",
    "    # create a simple animation\n",
    "    fig = plt.figure()\n",
    "    ax = plt.axes()\n",
    "    ax.cla()\n",
    "    ax.scatter(removed_points[:, 0], removed_points[:, 1], c=closest)\n",
    "    ax.scatter(removed_centroids[:, 0], removed_centroids[:, 1], c='r', s=100)\n",
    "    plt.show()\n",
    "    \n",
    "        \n",
    "    # NORMAL\n",
    "\n",
    "    points = original_points\n",
    "    original_centroids = initialize_centroids(points, n_centroids)\n",
    "    centroids = original_centroids\n",
    "    \n",
    "    max_change = epsilon\n",
    "    \n",
    "    start_time = time.time()\n",
    "    while max_change >= epsilon:\n",
    "        closest = closest_centroid(points, centroids)\n",
    "        centroids, max_change = move_centroids(\"normal\", points, closest, centroids)\n",
    "    stopped_time = time.time() - start_time\n",
    "    \n",
    "    print('\\n\\n # Normal:')\n",
    "    print(n_points)\n",
    "    print(stopped_time)\n",
    "    times['normal'][n_points] = stopped_time\n",
    "    \n",
    "    \n",
    "    # create a simple animation\n",
    "    fig = plt.figure()\n",
    "    ax = plt.axes()\n",
    "    ax.cla()\n",
    "    ax.scatter(points[:, 0], points[:, 1], c=closest)\n",
    "    ax.scatter(centroids[:, 0], centroids[:, 1], c='r', s=100)\n",
    "    plt.show()"
   ]
  },
  {
   "cell_type": "code",
   "execution_count": 45,
   "metadata": {
    "collapsed": false,
    "deletable": true,
    "editable": true
   },
   "outputs": [
    {
     "data": {
      "image/png": "[encoded data removed]",
      "text/plain": [
       "<matplotlib.figure.Figure at 0x103cc1eb8>"
      ]
     },
     "metadata": {},
     "output_type": "display_data"
    },
    {
     "data": {
      "image/png": "[encoded data removed]",
      "text/plain": [
       "<matplotlib.figure.Figure at 0x103cb8a20>"
      ]
     },
     "metadata": {},
     "output_type": "display_data"
    }
   ],
   "source": [
    "%matplotlib inline\n",
    "\n",
    "import matplotlib.pyplot as plt\n",
    "\n",
    "plt.figure(figsize=(20,5))\n",
    "\n",
    "chart_height = 40\n",
    "chart_width = 90000\n",
    "bar_width = chart_width / 50\n",
    "\n",
    "plt.bar(list(times['purge'].keys()), times['purge'].values(), align='center', width = bar_width)\n",
    "\n",
    "plt.xlabel('epsilon')\n",
    "plt.ylabel('time (s)')\n",
    "plt.title('times[purge]')\n",
    "plt.grid(True)\n",
    "ax = plt.axes()\n",
    "ax.set_xlim([0,chart_width])\n",
    "ax.set_ylim([0,chart_height])\n",
    "plt.show()\n",
    "\n",
    "plt.figure(figsize=(20,5))\n",
    "\n",
    "plt.bar(list(times['normal'].keys()), times['normal'].values(), align='center', width = bar_width)\n",
    "\n",
    "plt.xlabel('epsilon')\n",
    "plt.ylabel('time (s)')\n",
    "plt.title('times[normal]')\n",
    "plt.grid(True)\n",
    "ax = plt.axes()\n",
    "ax.set_xlim([0,chart_width])\n",
    "ax.set_ylim([0,chart_height])\n",
    "plt.show()"
   ]
  },
  {
   "cell_type": "code",
   "execution_count": 48,
   "metadata": {
    "collapsed": false,
    "deletable": true,
    "editable": true
   },
   "outputs": [
    {
     "ename": "IndexError",
     "evalue": "too many indices for array",
     "output_type": "error",
     "traceback": [
      "\u001b[0;31m---------------------------------------------------------------------------\u001b[0m",
      "\u001b[0;31mIndexError\u001b[0m                                Traceback (most recent call last)",
      "\u001b[0;32m/usr/local/lib/python3.4/site-packages/IPython/core/formatters.py\u001b[0m in \u001b[0;36m__call__\u001b[0;34m(self, obj)\u001b[0m\n\u001b[1;32m    309\u001b[0m             \u001b[0mmethod\u001b[0m \u001b[0;34m=\u001b[0m \u001b[0mget_real_method\u001b[0m\u001b[0;34m(\u001b[0m\u001b[0mobj\u001b[0m\u001b[0;34m,\u001b[0m \u001b[0mself\u001b[0m\u001b[0;34m.\u001b[0m\u001b[0mprint_method\u001b[0m\u001b[0;34m)\u001b[0m\u001b[0;34m\u001b[0m\u001b[0m\n\u001b[1;32m    310\u001b[0m             \u001b[0;32mif\u001b[0m \u001b[0mmethod\u001b[0m \u001b[0;32mis\u001b[0m \u001b[0;32mnot\u001b[0m \u001b[0;32mNone\u001b[0m\u001b[0;34m:\u001b[0m\u001b[0;34m\u001b[0m\u001b[0m\n\u001b[0;32m--> 311\u001b[0;31m                 \u001b[0;32mreturn\u001b[0m \u001b[0mmethod\u001b[0m\u001b[0;34m(\u001b[0m\u001b[0;34m)\u001b[0m\u001b[0;34m\u001b[0m\u001b[0m\n\u001b[0m\u001b[1;32m    312\u001b[0m             \u001b[0;32mreturn\u001b[0m \u001b[0;32mNone\u001b[0m\u001b[0;34m\u001b[0m\u001b[0m\n\u001b[1;32m    313\u001b[0m         \u001b[0;32melse\u001b[0m\u001b[0;34m:\u001b[0m\u001b[0;34m\u001b[0m\u001b[0m\n",
      "\u001b[0;32m/usr/local/lib/python3.4/site-packages/JSAnimation/IPython_display.py\u001b[0m in \u001b[0;36manim_to_html\u001b[0;34m(anim, fps, embed_frames, default_mode)\u001b[0m\n\u001b[1;32m     74\u001b[0m             anim.save(f.name,  writer=HTMLWriter(fps=fps,\n\u001b[1;32m     75\u001b[0m                                                  \u001b[0membed_frames\u001b[0m\u001b[0;34m=\u001b[0m\u001b[0membed_frames\u001b[0m\u001b[0;34m,\u001b[0m\u001b[0;34m\u001b[0m\u001b[0m\n\u001b[0;32m---> 76\u001b[0;31m                                                  default_mode=default_mode))\n\u001b[0m\u001b[1;32m     77\u001b[0m             \u001b[0mhtml\u001b[0m \u001b[0;34m=\u001b[0m \u001b[0mopen\u001b[0m\u001b[0;34m(\u001b[0m\u001b[0mf\u001b[0m\u001b[0;34m.\u001b[0m\u001b[0mname\u001b[0m\u001b[0;34m)\u001b[0m\u001b[0;34m.\u001b[0m\u001b[0mread\u001b[0m\u001b[0;34m(\u001b[0m\u001b[0;34m)\u001b[0m\u001b[0;34m\u001b[0m\u001b[0m\n\u001b[1;32m     78\u001b[0m \u001b[0;34m\u001b[0m\u001b[0m\n",
      "\u001b[0;32m/usr/local/lib/python3.4/site-packages/matplotlib/animation.py\u001b[0m in \u001b[0;36msave\u001b[0;34m(self, filename, writer, fps, dpi, codec, bitrate, extra_args, metadata, extra_anim, savefig_kwargs)\u001b[0m\n\u001b[1;32m   1010\u001b[0m                     \u001b[0;32mfor\u001b[0m \u001b[0manim\u001b[0m\u001b[0;34m,\u001b[0m \u001b[0md\u001b[0m \u001b[0;32min\u001b[0m \u001b[0mzip\u001b[0m\u001b[0;34m(\u001b[0m\u001b[0mall_anim\u001b[0m\u001b[0;34m,\u001b[0m \u001b[0mdata\u001b[0m\u001b[0;34m)\u001b[0m\u001b[0;34m:\u001b[0m\u001b[0;34m\u001b[0m\u001b[0m\n\u001b[1;32m   1011\u001b[0m                         \u001b[0;31m# TODO: See if turning off blit is really necessary\u001b[0m\u001b[0;34m\u001b[0m\u001b[0;34m\u001b[0m\u001b[0m\n\u001b[0;32m-> 1012\u001b[0;31m                         \u001b[0manim\u001b[0m\u001b[0;34m.\u001b[0m\u001b[0m_draw_next_frame\u001b[0m\u001b[0;34m(\u001b[0m\u001b[0md\u001b[0m\u001b[0;34m,\u001b[0m \u001b[0mblit\u001b[0m\u001b[0;34m=\u001b[0m\u001b[0;32mFalse\u001b[0m\u001b[0;34m)\u001b[0m\u001b[0;34m\u001b[0m\u001b[0m\n\u001b[0m\u001b[1;32m   1013\u001b[0m                     \u001b[0mwriter\u001b[0m\u001b[0;34m.\u001b[0m\u001b[0mgrab_frame\u001b[0m\u001b[0;34m(\u001b[0m\u001b[0;34m**\u001b[0m\u001b[0msavefig_kwargs\u001b[0m\u001b[0;34m)\u001b[0m\u001b[0;34m\u001b[0m\u001b[0m\n\u001b[1;32m   1014\u001b[0m \u001b[0;34m\u001b[0m\u001b[0m\n",
      "\u001b[0;32m/usr/local/lib/python3.4/site-packages/matplotlib/animation.py\u001b[0m in \u001b[0;36m_draw_next_frame\u001b[0;34m(self, framedata, blit)\u001b[0m\n\u001b[1;32m   1047\u001b[0m         \u001b[0;31m# post- draw, as well as the drawing of the frame itself.\u001b[0m\u001b[0;34m\u001b[0m\u001b[0;34m\u001b[0m\u001b[0m\n\u001b[1;32m   1048\u001b[0m         \u001b[0mself\u001b[0m\u001b[0;34m.\u001b[0m\u001b[0m_pre_draw\u001b[0m\u001b[0;34m(\u001b[0m\u001b[0mframedata\u001b[0m\u001b[0;34m,\u001b[0m \u001b[0mblit\u001b[0m\u001b[0;34m)\u001b[0m\u001b[0;34m\u001b[0m\u001b[0m\n\u001b[0;32m-> 1049\u001b[0;31m         \u001b[0mself\u001b[0m\u001b[0;34m.\u001b[0m\u001b[0m_draw_frame\u001b[0m\u001b[0;34m(\u001b[0m\u001b[0mframedata\u001b[0m\u001b[0;34m)\u001b[0m\u001b[0;34m\u001b[0m\u001b[0m\n\u001b[0m\u001b[1;32m   1050\u001b[0m         \u001b[0mself\u001b[0m\u001b[0;34m.\u001b[0m\u001b[0m_post_draw\u001b[0m\u001b[0;34m(\u001b[0m\u001b[0mframedata\u001b[0m\u001b[0;34m,\u001b[0m \u001b[0mblit\u001b[0m\u001b[0;34m)\u001b[0m\u001b[0;34m\u001b[0m\u001b[0m\n\u001b[1;32m   1051\u001b[0m \u001b[0;34m\u001b[0m\u001b[0m\n",
      "\u001b[0;32m/usr/local/lib/python3.4/site-packages/matplotlib/animation.py\u001b[0m in \u001b[0;36m_draw_frame\u001b[0;34m(self, framedata)\u001b[0m\n\u001b[1;32m   1510\u001b[0m         \u001b[0;31m# Call the func with framedata and args. If blitting is desired,\u001b[0m\u001b[0;34m\u001b[0m\u001b[0;34m\u001b[0m\u001b[0m\n\u001b[1;32m   1511\u001b[0m         \u001b[0;31m# func needs to return a sequence of any artists that were modified.\u001b[0m\u001b[0;34m\u001b[0m\u001b[0;34m\u001b[0m\u001b[0m\n\u001b[0;32m-> 1512\u001b[0;31m         \u001b[0mself\u001b[0m\u001b[0;34m.\u001b[0m\u001b[0m_drawn_artists\u001b[0m \u001b[0;34m=\u001b[0m \u001b[0mself\u001b[0m\u001b[0;34m.\u001b[0m\u001b[0m_func\u001b[0m\u001b[0;34m(\u001b[0m\u001b[0mframedata\u001b[0m\u001b[0;34m,\u001b[0m \u001b[0;34m*\u001b[0m\u001b[0mself\u001b[0m\u001b[0;34m.\u001b[0m\u001b[0m_args\u001b[0m\u001b[0;34m)\u001b[0m\u001b[0;34m\u001b[0m\u001b[0m\n\u001b[0m\u001b[1;32m   1513\u001b[0m         \u001b[0;32mif\u001b[0m \u001b[0mself\u001b[0m\u001b[0;34m.\u001b[0m\u001b[0m_blit\u001b[0m\u001b[0;34m:\u001b[0m\u001b[0;34m\u001b[0m\u001b[0m\n\u001b[1;32m   1514\u001b[0m             \u001b[0;32mif\u001b[0m \u001b[0mself\u001b[0m\u001b[0;34m.\u001b[0m\u001b[0m_drawn_artists\u001b[0m \u001b[0;32mis\u001b[0m \u001b[0;32mNone\u001b[0m\u001b[0;34m:\u001b[0m\u001b[0;34m\u001b[0m\u001b[0m\n",
      "\u001b[0;32m<ipython-input-48-9e7e290cca36>\u001b[0m in \u001b[0;36manimate\u001b[0;34m(i)\u001b[0m\n\u001b[1;32m     22\u001b[0m     \u001b[0mcentroids\u001b[0m \u001b[0;34m=\u001b[0m \u001b[0mmove_centroids_purge\u001b[0m\u001b[0;34m(\u001b[0m\u001b[0mnp\u001b[0m\u001b[0;34m.\u001b[0m\u001b[0marray\u001b[0m\u001b[0;34m(\u001b[0m\u001b[0mclosest\u001b[0m\u001b[0;34m)\u001b[0m\u001b[0;34m,\u001b[0m \u001b[0mnp\u001b[0m\u001b[0;34m.\u001b[0m\u001b[0marray\u001b[0m\u001b[0;34m(\u001b[0m\u001b[0mcentroids\u001b[0m\u001b[0;34m)\u001b[0m\u001b[0;34m)\u001b[0m\u001b[0;34m\u001b[0m\u001b[0m\n\u001b[1;32m     23\u001b[0m \u001b[0;34m\u001b[0m\u001b[0m\n\u001b[0;32m---> 24\u001b[0;31m     \u001b[0max\u001b[0m\u001b[0;34m.\u001b[0m\u001b[0mscatter\u001b[0m\u001b[0;34m(\u001b[0m\u001b[0mnp\u001b[0m\u001b[0;34m.\u001b[0m\u001b[0marray\u001b[0m\u001b[0;34m(\u001b[0m\u001b[0mcentroids\u001b[0m\u001b[0;34m)\u001b[0m\u001b[0;34m[\u001b[0m\u001b[0;34m:\u001b[0m\u001b[0;34m,\u001b[0m \u001b[0;36m0\u001b[0m\u001b[0;34m]\u001b[0m\u001b[0;34m,\u001b[0m \u001b[0mnp\u001b[0m\u001b[0;34m.\u001b[0m\u001b[0marray\u001b[0m\u001b[0;34m(\u001b[0m\u001b[0mcentroids\u001b[0m\u001b[0;34m)\u001b[0m\u001b[0;34m[\u001b[0m\u001b[0;34m:\u001b[0m\u001b[0;34m,\u001b[0m \u001b[0;36m1\u001b[0m\u001b[0;34m]\u001b[0m\u001b[0;34m,\u001b[0m \u001b[0mc\u001b[0m\u001b[0;34m=\u001b[0m\u001b[0;34m'r'\u001b[0m\u001b[0;34m,\u001b[0m \u001b[0ms\u001b[0m\u001b[0;34m=\u001b[0m\u001b[0;36m100\u001b[0m\u001b[0;34m)\u001b[0m\u001b[0;34m\u001b[0m\u001b[0m\n\u001b[0m\u001b[1;32m     25\u001b[0m \u001b[0;34m\u001b[0m\u001b[0m\n\u001b[1;32m     26\u001b[0m     \u001b[0max\u001b[0m\u001b[0;34m.\u001b[0m\u001b[0mset_xlim\u001b[0m\u001b[0;34m(\u001b[0m\u001b[0;34m[\u001b[0m\u001b[0;34m-\u001b[0m\u001b[0;36m2.5\u001b[0m\u001b[0;34m,\u001b[0m\u001b[0;36m4\u001b[0m\u001b[0;34m]\u001b[0m\u001b[0;34m)\u001b[0m\u001b[0;34m\u001b[0m\u001b[0m\n",
      "\u001b[0;31mIndexError\u001b[0m: too many indices for array"
     ]
    },
    {
     "data": {
      "text/plain": [
       "<matplotlib.animation.FuncAnimation at 0x1082c1dd8>"
      ]
     },
     "execution_count": 48,
     "metadata": {},
     "output_type": "execute_result"
    }
   ],
   "source": [
    "from JSAnimation import IPython_display\n",
    "from matplotlib import animation\n",
    "\n",
    "# create a simple animation\n",
    "fig = plt.figure()\n",
    "ax = plt.axes(xlim=(-4, 4), ylim=(-4, 4))\n",
    "centroids = initialize_centroids(points, n_centroids)\n",
    "\n",
    "line, = ax.plot([], [], lw=2)\n",
    "init_points(n_points)\n",
    "\n",
    "def init():\n",
    "    line.set_data([], [])\n",
    "    return line,\n",
    "\n",
    "def animate(i):\n",
    "    global centroids\n",
    "    closest = closest_centroid(points, centroids)\n",
    "    ax.cla()\n",
    "    ax.scatter(points[:, 0], points[:, 1], c = closest)\n",
    "    centroids = move_centroids_purge(closest, centroids)\n",
    "    \n",
    "    ax.scatter(centroids[:, 0], centroids[:, 1], c='r', s=100)\n",
    "    \n",
    "    ax.set_xlim([-2.5,4])\n",
    "    ax.set_ylim([-2.5,2.5])\n",
    "\n",
    "    return line,\n",
    "\n",
    "animation.FuncAnimation(fig, animate, init_func=init,\n",
    "                        frames=40, interval=1, blit=True)"
   ]
  },
  {
   "cell_type": "code",
   "execution_count": null,
   "metadata": {
    "collapsed": true,
    "deletable": true,
    "editable": true
   },
   "outputs": [],
   "source": []
  }
 ],
 "metadata": {
  "kernelspec": {
   "display_name": "Python 3",
   "language": "python",
   "name": "python3"
  },
  "language_info": {
   "codemirror_mode": {
    "name": "ipython",
    "version": 3
   },
   "file_extension": ".py",
   "mimetype": "text/x-python",
   "name": "python",
   "nbconvert_exporter": "python",
   "pygments_lexer": "ipython3",
   "version": "3.4.3"
  }
 },
 "nbformat": 4,
 "nbformat_minor": 2
}
