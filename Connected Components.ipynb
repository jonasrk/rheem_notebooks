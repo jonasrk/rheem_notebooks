{
 "cells": [
  {
   "cell_type": "code",
   "execution_count": 15,
   "metadata": {
    "collapsed": false,
    "deletable": true,
    "editable": true
   },
   "outputs": [
    {
     "name": "stdout",
     "output_type": "stream",
     "text": [
      "Time to generate graph - nodes: 1000:0.9071259498596191 seconds\n",
      "Time to solve graph - nodes: 1000:0.041613101959228516 seconds\n",
      "Time to generate graph - nodes: 1500:2.2366039752960205 seconds\n",
      "Time to solve graph - nodes: 1500:0.09363102912902832 seconds\n",
      "Time to generate graph - nodes: 2000:3.9081850051879883 seconds\n",
      "Time to solve graph - nodes: 2000:0.18606996536254883 seconds\n",
      "Time to generate graph - nodes: 2500:6.146842956542969 seconds\n",
      "Time to solve graph - nodes: 2500:0.25202083587646484 seconds\n",
      "Time to generate graph - nodes: 3000:9.14967393875122 seconds\n",
      "Time to solve graph - nodes: 3000:0.38900089263916016 seconds\n",
      "Time to generate graph - nodes: 3500:12.336535930633545 seconds\n",
      "Time to solve graph - nodes: 3500:0.49626898765563965 seconds\n",
      "Time to generate graph - nodes: 4000:16.10498285293579 seconds\n",
      "Time to solve graph - nodes: 4000:0.6112651824951172 seconds\n",
      "Time to generate graph - nodes: 4500:21.34692406654358 seconds\n",
      "Time to solve graph - nodes: 4500:0.880669116973877 seconds\n",
      "Time to generate graph - nodes: 5000:26.662800788879395 seconds\n",
      "Time to solve graph - nodes: 5000:0.9324350357055664 seconds\n",
      "Time to generate graph - nodes: 5500:34.470104932785034 seconds\n",
      "Time to solve graph - nodes: 5500:1.29899001121521 seconds\n",
      "Time to generate graph - nodes: 6000:38.81223678588867 seconds\n",
      "Time to solve graph - nodes: 6000:1.652324914932251 seconds\n",
      "Time to generate graph - nodes: 6500:48.24269890785217 seconds\n",
      "Time to solve graph - nodes: 6500:2.380173921585083 seconds\n",
      "Time to generate graph - nodes: 7000:55.81980299949646 seconds\n",
      "Time to solve graph - nodes: 7000:3.1557469367980957 seconds\n",
      "Time to generate graph - nodes: 7500:66.11489605903625 seconds\n",
      "Time to solve graph - nodes: 7500:4.210410833358765 seconds\n",
      "Time to generate graph - nodes: 8000:71.80939483642578 seconds\n",
      "Time to solve graph - nodes: 8000:2.9120230674743652 seconds\n",
      "Time to generate graph - nodes: 8500:84.83513498306274 seconds\n",
      "Time to solve graph - nodes: 8500:5.847959995269775 seconds\n"
     ]
    }
   ],
   "source": [
    "#!/usr/bin/env python\n",
    "\n",
    "# JRK: from https://breakingcode.wordpress.com/2013/04/08/finding-connected-components-in-a-graph/\n",
    "\n",
    "# Finding connected components in a bidirectional graph.\n",
    "# By Mario Vilas (mvilas at gmail dot com)\n",
    "\n",
    "import random\n",
    "import string\n",
    "import time\n",
    "import numpy as np\n",
    "\n",
    "# The graph nodes.\n",
    "class Data(object):\n",
    "    def __init__(self, name):\n",
    "        self.__name  = name\n",
    "        self.__links = set()\n",
    "\n",
    "    @property\n",
    "    def name(self):\n",
    "        return self.__name\n",
    "\n",
    "    @property\n",
    "    def links(self):\n",
    "        return set(self.__links)\n",
    "\n",
    "    def add_link(self, other):\n",
    "        self.__links.add(other)\n",
    "        other.__links.add(self)\n",
    "\n",
    "# The function to look for connected components.\n",
    "def connected_components(nodes):\n",
    "\n",
    "    # List of connected components found. The order is random.\n",
    "    result = []\n",
    "\n",
    "    # Make a copy of the set, so we can modify it.\n",
    "    nodes = set(nodes)\n",
    "\n",
    "    # Iterate while we still have nodes to process.\n",
    "    while nodes:\n",
    "\n",
    "        # Get a random node and remove it from the global set.\n",
    "        n = nodes.pop()\n",
    "\n",
    "        # This set will contain the next group of nodes connected to each other.\n",
    "        group = {n}\n",
    "\n",
    "        # Build a queue with this node in it.\n",
    "        queue = [n]\n",
    "\n",
    "        # Iterate the queue.\n",
    "        # When it's empty, we finished visiting a group of connected nodes.\n",
    "        while queue:\n",
    "\n",
    "            # Consume the next item from the queue.\n",
    "            n = queue.pop(0)\n",
    "\n",
    "            # Fetch the neighbors.\n",
    "            neighbors = n.links\n",
    "\n",
    "            # Remove the neighbors we already visited.\n",
    "            neighbors.difference_update(group)\n",
    "\n",
    "            # Remove the remaining nodes from the global set.\n",
    "            nodes.difference_update(neighbors)\n",
    "\n",
    "            # Add them to the group of connected nodes.\n",
    "            group.update(neighbors)\n",
    "\n",
    "            # Add them to the queue, so we visit them in the next iterations.\n",
    "            queue.extend(neighbors)\n",
    "\n",
    "        # Add the group to the list of groups.\n",
    "        result.append(group)\n",
    "\n",
    "    # Return the list of groups.\n",
    "    return result\n",
    "\n",
    "# The test code...\n",
    "if __name__ == \"__main__\":\n",
    "    \n",
    "    n_nodes = 500\n",
    "    times_generate = {}\n",
    "    times_solve = {}\n",
    "    \n",
    "    while True:\n",
    "        try:\n",
    "            graph = []\n",
    "            n_nodes = n_nodes + 500\n",
    "            nodes = []\n",
    "            name_length = 8\n",
    "            # probabiliy = 1 / n_nodes\n",
    "            \n",
    "            for i in range(n_nodes):\n",
    "                hash = ''.join(random.choice(string.ascii_uppercase + string.digits) for _ in range(name_length))\n",
    "                graph.append(Data(hash))\n",
    "                \n",
    "            start_time = time.time()\n",
    "            for i in range(n_nodes):\n",
    "                for link in random.sample(graph, random.randint(0, n_nodes)):\n",
    "                    graph[i].add_link(link)\n",
    "            stopped_time = time.time() - start_time\n",
    "            \n",
    "            print(\"Time to generate graph - nodes: \" + str(n_nodes) + \":%s seconds\" % stopped_time)\n",
    "            times_generate[n_nodes] = stopped_time\n",
    "        \n",
    "            # Find all the connected components.\n",
    "            number = 1\n",
    "            start_time = time.time()\n",
    "            for components in connected_components(graph):\n",
    "                names = sorted(node.name for node in components)\n",
    "                names = \", \".join(names)\n",
    "                #print(\"Group #%i: %s\" % (number, names))\n",
    "                number += 1\n",
    "            stopped_time = time.time() - start_time\n",
    "            \n",
    "            print(\"Time to solve graph - nodes: \" + str(n_nodes) + \":%s seconds\" % stopped_time)\n",
    "            times_solve[n_nodes] = stopped_time\n",
    "                \n",
    "        except KeyboardInterrupt:\n",
    "            break"
   ]
  },
  {
   "cell_type": "code",
   "execution_count": 16,
   "metadata": {
    "collapsed": false,
    "deletable": true,
    "editable": true
   },
   "outputs": [
    {
     "name": "stdout",
     "output_type": "stream",
     "text": [
      "{4000: 16.10498285293579, 6000: 38.81223678588867, 2500: 6.146842956542969, 7500: 66.11489605903625, 8500: 84.83513498306274, 5000: 26.662800788879395, 1500: 2.2366039752960205, 3500: 12.336535930633545, 8000: 71.80939483642578, 2000: 3.9081850051879883, 1000: 0.9071259498596191, 4500: 21.34692406654358, 7000: 55.81980299949646, 3000: 9.14967393875122, 6500: 48.24269890785217, 5500: 34.470104932785034}\n",
      "{4000: 0.6112651824951172, 6000: 1.652324914932251, 2500: 0.25202083587646484, 7500: 4.210410833358765, 8500: 5.847959995269775, 5000: 0.9324350357055664, 1500: 0.09363102912902832, 3500: 0.49626898765563965, 8000: 2.9120230674743652, 2000: 0.18606996536254883, 1000: 0.041613101959228516, 4500: 0.880669116973877, 7000: 3.1557469367980957, 3000: 0.38900089263916016, 6500: 2.380173921585083, 5500: 1.29899001121521}\n"
     ]
    }
   ],
   "source": [
    "print(times_generate)\n",
    "print(times_solve)"
   ]
  },
  {
   "cell_type": "code",
   "execution_count": 20,
   "metadata": {
    "collapsed": false,
    "deletable": true,
    "editable": true
   },
   "outputs": [
    {
     "data": {
      "image/png": "[encoded data removed]",
      "text/plain": [
       "<matplotlib.figure.Figure at 0x10e6fcd30>"
      ]
     },
     "metadata": {},
     "output_type": "display_data"
    },
    {
     "data": {
      "image/png": "[encoded data removed]",
      "text/plain": [
       "<matplotlib.figure.Figure at 0x10e90c748>"
      ]
     },
     "metadata": {},
     "output_type": "display_data"
    }
   ],
   "source": [
    "%matplotlib inline\n",
    "\n",
    "import matplotlib.pyplot as plt\n",
    "\n",
    "plt.bar(list(times_generate.keys()), times_generate.values(), align='center')\n",
    "\n",
    "plt.xlabel('# nodes')\n",
    "plt.ylabel('time (s)')\n",
    "plt.title('generation time')\n",
    "plt.grid(True)\n",
    "plt.show()\n",
    "\n",
    "plt.bar(list(times_solve.keys()), times_solve.values(), align='center')\n",
    "\n",
    "plt.xlabel('# nodes')\n",
    "plt.ylabel('time (s)')\n",
    "plt.title('solving time')\n",
    "plt.grid(True)\n",
    "plt.show()"
   ]
  },
  {
   "cell_type": "code",
   "execution_count": null,
   "metadata": {
    "collapsed": true
   },
   "outputs": [],
   "source": []
  }
 ],
 "metadata": {
  "kernelspec": {
   "display_name": "Python 3",
   "language": "python",
   "name": "python3"
  },
  "language_info": {
   "codemirror_mode": {
    "name": "ipython",
    "version": 3
   },
   "file_extension": ".py",
   "mimetype": "text/x-python",
   "name": "python",
   "nbconvert_exporter": "python",
   "pygments_lexer": "ipython3",
   "version": "3.4.3"
  }
 },
 "nbformat": 4,
 "nbformat_minor": 2
}
