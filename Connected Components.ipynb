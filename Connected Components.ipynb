{
 "cells": [
  {
   "cell_type": "code",
   "execution_count": 48,
   "metadata": {
    "collapsed": false,
    "deletable": true,
    "editable": true
   },
   "outputs": [
    {
     "name": "stdout",
     "output_type": "stream",
     "text": [
      "0.0001220703125\n",
      "Time to generate graph - nodes: 4096:7.518352031707764 seconds\n",
      "Time to solve graph - nodes: 4096:0.014839887619018555 seconds\n",
      "6.103515625e-05\n",
      "Time to generate graph - nodes: 8192:30.62404990196228 seconds\n",
      "Time to solve graph - nodes: 8192:0.39299917221069336 seconds\n",
      "3.0517578125e-05\n",
      "Time to generate graph - nodes: 16384:147.3427860736847 seconds\n",
      "Time to solve graph - nodes: 16384:0.07095193862915039 seconds\n",
      "1.52587890625e-05\n",
      "Time to generate graph - nodes: 32768:625.4006049633026 seconds\n",
      "Time to solve graph - nodes: 32768:0.2578909397125244 seconds\n",
      "7.62939453125e-06\n",
      "Time to generate graph - nodes: 65536:2289.139811038971 seconds\n",
      "Time to solve graph - nodes: 65536:0.6776139736175537 seconds\n",
      "3.814697265625e-06\n",
      "Time to generate graph - nodes: 131072:8547.542007923126 seconds\n",
      "Time to solve graph - nodes: 131072:0.7314400672912598 seconds\n",
      "1.9073486328125e-06\n"
     ]
    }
   ],
   "source": [
    "#!/usr/bin/env python\n",
    "\n",
    "# JRK: from https://breakingcode.wordpress.com/2013/04/08/finding-connected-components-in-a-graph/\n",
    "\n",
    "# Finding connected components in a bidirectional graph.\n",
    "# By Mario Vilas (mvilas at gmail dot com)\n",
    "\n",
    "import random\n",
    "import string\n",
    "import time\n",
    "import numpy as np\n",
    "import pickle\n",
    "import sys\n",
    "\n",
    "sys.setrecursionlimit(100000000)\n",
    "\n",
    "# The graph nodes.\n",
    "class Data(object):\n",
    "    def __init__(self, name):\n",
    "        self.__name  = name\n",
    "        self.__links = set()\n",
    "\n",
    "    @property\n",
    "    def name(self):\n",
    "        return self.__name\n",
    "\n",
    "    @property\n",
    "    def links(self):\n",
    "        return set(self.__links)\n",
    "\n",
    "    def add_link(self, other):\n",
    "        self.__links.add(other)\n",
    "        other.__links.add(self)\n",
    "\n",
    "# The function to look for connected components.\n",
    "def connected_components(nodes):\n",
    "\n",
    "    # List of connected components found. The order is random.\n",
    "    result = []\n",
    "\n",
    "    # Make a copy of the set, so we can modify it.\n",
    "    nodes = set(nodes)\n",
    "\n",
    "    # Iterate while we still have nodes to process.\n",
    "    while nodes:\n",
    "\n",
    "        # Get a random node and remove it from the global set.\n",
    "        n = nodes.pop()\n",
    "\n",
    "        # This set will contain the next group of nodes connected to each other.\n",
    "        group = {n}\n",
    "\n",
    "        # Build a queue with this node in it.\n",
    "        queue = [n]\n",
    "\n",
    "        # Iterate the queue.\n",
    "        # When it's empty, we finished visiting a group of connected nodes.\n",
    "        while queue:\n",
    "\n",
    "            # Consume the next item from the queue.\n",
    "            n = queue.pop(0)\n",
    "\n",
    "            # Fetch the neighbors.\n",
    "            neighbors = n.links\n",
    "\n",
    "            # Remove the neighbors we already visited.\n",
    "            neighbors.difference_update(group)\n",
    "\n",
    "            # Remove the remaining nodes from the global set.\n",
    "            nodes.difference_update(neighbors)\n",
    "\n",
    "            # Add them to the group of connected nodes.\n",
    "            group.update(neighbors)\n",
    "\n",
    "            # Add them to the queue, so we visit them in the next iterations.\n",
    "            queue.extend(neighbors)\n",
    "\n",
    "        # Add the group to the list of groups.\n",
    "        result.append(group)\n",
    "\n",
    "    # Return the list of groups.\n",
    "    return result\n",
    "\n",
    "# The test code...\n",
    "if __name__ == \"__main__\":\n",
    "    \n",
    "    n_nodes = 2048\n",
    "    times_generate = {}\n",
    "    times_solve = {}\n",
    "    \n",
    "    while True:\n",
    "        try:\n",
    "            graph = []\n",
    "            n_nodes = n_nodes + n_nodes\n",
    "            nodes = []\n",
    "            name_length = 8\n",
    "            probability = 1.0 / (n_nodes * 2)\n",
    "            print(probability)\n",
    "    \n",
    "            for i in range(n_nodes):\n",
    "                hash = ''.join(random.choice(string.ascii_uppercase + string.digits) for _ in range(name_length))\n",
    "                graph.append(Data(hash))\n",
    "                \n",
    "            start_time = time.time()\n",
    "            for i in range(n_nodes):\n",
    "                for j in range(n_nodes):\n",
    "                    if random.uniform(0.0, 1.0) < probability:\n",
    "                        graph[i].add_link(graph[j])\n",
    "            stopped_time = time.time() - start_time\n",
    "            \n",
    "            print(\"Time to generate graph - nodes: \" + str(n_nodes) + \":%s seconds\" % stopped_time)\n",
    "            times_generate[n_nodes] = stopped_time\n",
    "            \n",
    "            with open('connected_graph_' + str(n_nodes) + '.pkl', 'wb') as output:\n",
    "                pickle.dump(graph, output, pickle.HIGHEST_PROTOCOL)\n",
    "            \n",
    "            # with open('connected_graph_1024.pkl', 'rb') as input:\n",
    "            #     graph = pickle.load(input)\n",
    "        \n",
    "            # Find all the connected components.\n",
    "            number = 1\n",
    "            start_time = time.time()\n",
    "            for components in connected_components(graph):\n",
    "                names = sorted(node.name for node in components)\n",
    "                names = \", \".join(names)\n",
    "                # print(\"Group #%i: %s\" % (number, names))\n",
    "                number += 1\n",
    "            stopped_time = time.time() - start_time\n",
    "            \n",
    "            print(\"Time to solve graph - nodes: \" + str(n_nodes) + \":%s seconds\" % stopped_time)\n",
    "            times_solve[n_nodes] = stopped_time\n",
    "                \n",
    "        except KeyboardInterrupt:\n",
    "            break"
   ]
  },
  {
   "cell_type": "code",
   "execution_count": 34,
   "metadata": {
    "collapsed": false,
    "deletable": true,
    "editable": true
   },
   "outputs": [
    {
     "name": "stdout",
     "output_type": "stream",
     "text": [
      "{32: 0.0004801750183105469, 512: 0.15627002716064453, 2: 1.2159347534179688e-05, 4096: 7.076444149017334, 4: 1.3113021850585938e-05, 2048: 1.7829139232635498, 8192: 30.04224991798401, 8: 4.00543212890625e-05, 64: 0.001611948013305664, 128: 0.007079124450683594, 256: 0.026295900344848633, 16384: 114.74739003181458, 16: 0.0001239776611328125, 32768: 464.73139786720276, 1024: 0.48520898818969727}\n",
      "{32: 0.00012087821960449219, 512: 0.003203153610229492, 2: 3.314018249511719e-05, 4096: 0.14337801933288574, 4: 2.8133392333984375e-05, 2048: 0.034132957458496094, 8192: 0.4857180118560791, 8: 4.9114227294921875e-05, 64: 0.00022411346435546875, 128: 0.0005578994750976562, 256: 0.0011610984802246094, 16384: 1.9489660263061523, 16: 6.794929504394531e-05, 32768: 7.070389032363892, 1024: 0.011729001998901367}\n"
     ]
    }
   ],
   "source": [
    "print(times_generate)\n",
    "print(times_solve)"
   ]
  },
  {
   "cell_type": "code",
   "execution_count": 35,
   "metadata": {
    "collapsed": false,
    "deletable": true,
    "editable": true
   },
   "outputs": [
    {
     "data": {
      "image/png": "[encoded data removed]",
      "text/plain": [
       "<matplotlib.figure.Figure at 0x10e1ec668>"
      ]
     },
     "metadata": {},
     "output_type": "display_data"
    },
    {
     "data": {
      "image/png": "[encoded data removed]",
      "text/plain": [
       "<matplotlib.figure.Figure at 0x131fc5f28>"
      ]
     },
     "metadata": {},
     "output_type": "display_data"
    }
   ],
   "source": [
    "%matplotlib inline\n",
    "\n",
    "import matplotlib.pyplot as plt\n",
    "\n",
    "plt.bar(list(times_generate.keys()), times_generate.values(), align='center')\n",
    "\n",
    "plt.xlabel('# nodes')\n",
    "plt.ylabel('time (s)')\n",
    "plt.title('generation time')\n",
    "plt.grid(True)\n",
    "plt.show()\n",
    "\n",
    "plt.bar(list(times_solve.keys()), times_solve.values(), align='center')\n",
    "\n",
    "plt.xlabel('# nodes')\n",
    "plt.ylabel('time (s)')\n",
    "plt.title('solving time')\n",
    "plt.grid(True)\n",
    "plt.show()"
   ]
  },
  {
   "cell_type": "code",
   "execution_count": null,
   "metadata": {
    "collapsed": true
   },
   "outputs": [],
   "source": []
  }
 ],
 "metadata": {
  "kernelspec": {
   "display_name": "Python 3",
   "language": "python",
   "name": "python3"
  },
  "language_info": {
   "codemirror_mode": {
    "name": "ipython",
    "version": 3
   },
   "file_extension": ".py",
   "mimetype": "text/x-python",
   "name": "python",
   "nbconvert_exporter": "python",
   "pygments_lexer": "ipython3",
   "version": "3.4.3"
  }
 },
 "nbformat": 4,
 "nbformat_minor": 2
}
