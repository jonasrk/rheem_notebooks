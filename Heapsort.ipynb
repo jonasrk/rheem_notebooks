{
 "cells": [
  {
   "cell_type": "code",
   "execution_count": 39,
   "metadata": {
    "collapsed": false
   },
   "outputs": [
    {
     "name": "stdout",
     "output_type": "stream",
     "text": [
      "n: 10000:0.7652120590209961 seconds\n",
      "n: 15000:2.668269157409668 seconds\n",
      "n: 20000:2.687919855117798 seconds\n",
      "n: 25000:3.3142290115356445 seconds\n",
      "n: 30000:5.424050807952881 seconds\n",
      "n: 35000:7.309172868728638 seconds\n",
      "n: 40000:8.281972885131836 seconds\n",
      "n: 45000:17.57889699935913 seconds\n",
      "n: 50000:25.083446979522705 seconds\n",
      "n: 55000:73.7748339176178 seconds\n",
      "n: 60000:62.99996089935303 seconds\n",
      "n: 65000:68.39524793624878 seconds\n",
      "{40000: 8.281972885131836, 50000: 25.083446979522705, 65000: 68.39524793624878, 25000: 3.3142290115356445, 55000: 73.7748339176178, 30000: 5.424050807952881, 10000: 0.7652120590209961, 45000: 17.57889699935913, 20000: 2.687919855117798, 15000: 2.668269157409668, 60000: 62.99996089935303, 35000: 7.309172868728638}\n"
     ]
    }
   ],
   "source": [
    "# original heapsort from http://www.geekviewpoint.com/python/sorting/heapsort\n",
    "\n",
    "import random\n",
    "import time\n",
    "\n",
    "\n",
    "def heapsort( aList ):\n",
    "  # convert aList to heap\n",
    "  length = len( aList ) - 1\n",
    "  leastParent = int(length / 2)\n",
    "  for i in range ( leastParent, -1, -1 ):\n",
    "    moveDown( aList, i, length )\n",
    " \n",
    "  # flatten heap into sorted array\n",
    "  for i in range ( length, 0, -1 ):\n",
    "    if aList[0] > aList[i]:\n",
    "      swap( aList, 0, i )\n",
    "      moveDown( aList, 0, i - 1 )\n",
    "    aList = aList[:-1]\n",
    " \n",
    " \n",
    "def moveDown( aList, first, last ):\n",
    "  largest = 2 * first + 1\n",
    "  while largest <= last:\n",
    "    # right child exists and is larger than left child\n",
    "    if ( largest < last ) and ( aList[largest] < aList[largest + 1] ):\n",
    "      largest += 1\n",
    " \n",
    "    # right child is larger than parent\n",
    "    if aList[largest] > aList[first]:\n",
    "      swap( aList, largest, first )\n",
    "      # move down to largest child\n",
    "      first = largest;\n",
    "      largest = 2 * first + 1\n",
    "    else:\n",
    "      return # force exit\n",
    " \n",
    " \n",
    "def swap( A, x, y ):\n",
    "  tmp = A[x]\n",
    "  A[x] = A[y]\n",
    "  A[y] = tmp\n",
    "\n",
    "\n",
    "size = 1000000\n",
    "\n",
    "n = 5000\n",
    "times = {}\n",
    "\n",
    "while True:\n",
    "    try:\n",
    "        n = n + 5000\n",
    "        \n",
    "        numbers = []\n",
    "\n",
    "        for i in range(n):\n",
    "            numbers.append(random.randint(1, size))\n",
    "        \n",
    "        start_time = time.time()\n",
    "        \n",
    "        heapsort(numbers)\n",
    "        \n",
    "        stopped_time = time.time() - start_time\n",
    "        print(\"n: \" + str(n) + \":%s seconds\" % stopped_time)\n",
    "        times[n] = stopped_time\n",
    "        \n",
    "    except KeyboardInterrupt:\n",
    "        break\n",
    "\n",
    "print(times)"
   ]
  },
  {
   "cell_type": "code",
   "execution_count": 40,
   "metadata": {
    "collapsed": false
   },
   "outputs": [
    {
     "name": "stdout",
     "output_type": "stream",
     "text": [
      "[40000, 50000, 65000, 25000, 55000, 30000, 10000, 45000, 20000, 15000, 60000, 35000]\n"
     ]
    },
    {
     "data": {
      "image/png": "[encoded data removed]",
      "text/plain": [
       "<matplotlib.figure.Figure at 0x109a3d6a0>"
      ]
     },
     "metadata": {},
     "output_type": "display_data"
    }
   ],
   "source": [
    "%matplotlib inline\n",
    "\n",
    "import matplotlib.pyplot as plt\n",
    "\n",
    "keys = [x for x in times.keys()]\n",
    "\n",
    "print(keys)\n",
    "\n",
    "plt.bar(keys, times.values(), align='center')\n",
    "\n",
    "plt.xlabel('#')\n",
    "plt.ylabel('time (s)')\n",
    "plt.title('heapsort execution time')\n",
    "plt.grid(True)\n",
    "plt.show()"
   ]
  },
  {
   "cell_type": "code",
   "execution_count": null,
   "metadata": {
    "collapsed": true
   },
   "outputs": [],
   "source": []
  }
 ],
 "metadata": {
  "kernelspec": {
   "display_name": "Python 3",
   "language": "python",
   "name": "python3"
  },
  "language_info": {
   "codemirror_mode": {
    "name": "ipython",
    "version": 3
   },
   "file_extension": ".py",
   "mimetype": "text/x-python",
   "name": "python",
   "nbconvert_exporter": "python",
   "pygments_lexer": "ipython3",
   "version": "3.4.3"
  }
 },
 "nbformat": 4,
 "nbformat_minor": 2
}
