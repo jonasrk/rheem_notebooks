{
 "cells": [
  {
   "cell_type": "code",
   "execution_count": 29,
   "metadata": {
    "collapsed": false
   },
   "outputs": [
    {
     "name": "stdout",
     "output_type": "stream",
     "text": [
      "n: 20000:0.3624730110168457 seconds\n",
      "n: 30000:0.6165030002593994 seconds\n",
      "n: 40000:0.9756429195404053 seconds\n",
      "n: 50000:1.4400498867034912 seconds\n",
      "n: 60000:1.5263440608978271 seconds\n",
      "n: 70000:1.577462911605835 seconds\n",
      "n: 80000:2.3447861671447754 seconds\n",
      "n: 90000:2.5563430786132812 seconds\n",
      "n: 100000:3.023634910583496 seconds\n",
      "n: 110000:2.676366090774536 seconds\n",
      "n: 120000:2.957257032394409 seconds\n",
      "n: 130000:3.51145601272583 seconds\n",
      "n: 140000:3.959552049636841 seconds\n",
      "n: 150000:3.72981595993042 seconds\n",
      "n: 160000:4.334867000579834 seconds\n",
      "n: 170000:4.3472678661346436 seconds\n",
      "n: 180000:4.602798938751221 seconds\n",
      "n: 190000:5.001966953277588 seconds\n",
      "n: 200000:5.555819988250732 seconds\n",
      "n: 210000:6.979074001312256 seconds\n",
      "n: 220000:5.660943984985352 seconds\n",
      "n: 230000:6.837734937667847 seconds\n",
      "n: 240000:8.328505039215088 seconds\n",
      "n: 250000:9.583822965621948 seconds\n",
      "n: 260000:9.737074136734009 seconds\n",
      "n: 270000:10.782435894012451 seconds\n",
      "n: 280000:7.827779054641724 seconds\n",
      "n: 290000:8.947396993637085 seconds\n",
      "n: 300000:8.915165901184082 seconds\n",
      "n: 310000:8.20915412902832 seconds\n",
      "n: 320000:8.484143018722534 seconds\n",
      "n: 330000:9.071683883666992 seconds\n",
      "n: 340000:9.010513067245483 seconds\n",
      "n: 350000:11.864583969116211 seconds\n",
      "n: 360000:10.025617837905884 seconds\n",
      "n: 370000:13.713885068893433 seconds\n",
      "n: 380000:17.43056011199951 seconds\n",
      "n: 390000:25.90668487548828 seconds\n",
      "n: 400000:24.944150924682617 seconds\n",
      "n: 410000:20.869552850723267 seconds\n",
      "n: 420000:15.22262191772461 seconds\n",
      "n: 430000:14.597496032714844 seconds\n",
      "n: 440000:17.42658805847168 seconds\n",
      "n: 450000:16.903538942337036 seconds\n",
      "n: 460000:17.562864065170288 seconds\n",
      "n: 470000:20.804434776306152 seconds\n",
      "n: 480000:23.79197406768799 seconds\n",
      "n: 490000:22.439193964004517 seconds\n",
      "n: 500000:20.364078044891357 seconds\n",
      "n: 510000:19.069427013397217 seconds\n",
      "n: 520000:20.53327202796936 seconds\n",
      "n: 530000:19.513431072235107 seconds\n",
      "n: 540000:19.979127883911133 seconds\n",
      "n: 550000:22.515089988708496 seconds\n",
      "n: 560000:24.546752214431763 seconds\n",
      "{80000: 2.3447861671447754, 160000: 4.334867000579834, 470000: 20.804434776306152, 420000: 15.22262191772461, 90000: 2.5563430786132812, 320000: 8.484143018722534, 530000: 19.513431072235107, 270000: 10.782435894012451, 480000: 23.79197406768799, 260000: 9.737074136734009, 190000: 5.001966953277588, 520000: 20.53327202796936, 430000: 14.597496032714844, 500000: 20.364078044891357, 170000: 4.3472678661346436, 380000: 17.43056011199951, 540000: 19.979127883911133, 120000: 2.957257032394409, 330000: 9.071683883666992, 110000: 2.676366090774536, 50000: 1.4400498867034912, 280000: 7.827779054641724, 490000: 22.439193964004517, 20000: 0.3624730110168457, 230000: 6.837734937667847, 70000: 1.577462911605835, 440000: 17.42658805847168, 180000: 4.602798938751221, 40000: 0.9756429195404053, 340000: 9.010513067245483, 130000: 3.51145601272583, 550000: 22.515089988708496, 290000: 8.947396993637085, 30000: 0.6165030002593994, 370000: 13.713885068893433, 240000: 8.328505039215088, 450000: 16.903538942337036, 400000: 24.944150924682617, 140000: 3.959552049636841, 350000: 11.864583969116211, 60000: 1.5263440608978271, 210000: 6.979074001312256, 560000: 24.546752214431763, 300000: 8.915165901184082, 510000: 19.069427013397217, 250000: 9.583822965621948, 460000: 17.562864065170288, 390000: 25.90668487548828, 410000: 20.869552850723267, 200000: 5.555819988250732, 150000: 3.72981595993042, 360000: 10.025617837905884, 100000: 3.023634910583496, 220000: 5.660943984985352, 310000: 8.20915412902832}\n"
     ]
    }
   ],
   "source": [
    "# original heapsort from http://www.geekviewpoint.com/python/sorting/heapsort\n",
    "\n",
    "import random\n",
    "import time\n",
    "\n",
    "\n",
    "def heapsort( aList ):\n",
    "  # convert aList to heap\n",
    "  length = len( aList ) - 1\n",
    "  leastParent = int(length / 2)\n",
    "  for i in range ( leastParent, -1, -1 ):\n",
    "    moveDown( aList, i, length )\n",
    " \n",
    "  # flatten heap into sorted array\n",
    "  for i in range ( length, 0, -1 ):\n",
    "    if aList[0] > aList[i]:\n",
    "      swap( aList, 0, i )\n",
    "      moveDown( aList, 0, i - 1 )\n",
    " \n",
    " \n",
    "def moveDown( aList, first, last ):\n",
    "  largest = 2 * first + 1\n",
    "  while largest <= last:\n",
    "    # right child exists and is larger than left child\n",
    "    if ( largest < last ) and ( aList[largest] < aList[largest + 1] ):\n",
    "      largest += 1\n",
    " \n",
    "    # right child is larger than parent\n",
    "    if aList[largest] > aList[first]:\n",
    "      swap( aList, largest, first )\n",
    "      # move down to largest child\n",
    "      first = largest;\n",
    "      largest = 2 * first + 1\n",
    "    else:\n",
    "      return # force exit\n",
    " \n",
    " \n",
    "def swap( A, x, y ):\n",
    "  tmp = A[x]\n",
    "  A[x] = A[y]\n",
    "  A[y] = tmp\n",
    "\n",
    "\n",
    "size = 1000000\n",
    "\n",
    "n = 10000\n",
    "times = {}\n",
    "\n",
    "while True:\n",
    "    try:\n",
    "        n = n + 10000\n",
    "        \n",
    "        numbers = []\n",
    "\n",
    "        for i in range(n):\n",
    "            numbers.append(random.randint(1, size))\n",
    "        \n",
    "        start_time = time.time()\n",
    "        \n",
    "        heapsort(numbers)\n",
    "        \n",
    "        stopped_time = time.time() - start_time\n",
    "        print(\"n: \" + str(n) + \":%s seconds\" % stopped_time)\n",
    "        times[n] = stopped_time\n",
    "        \n",
    "    except KeyboardInterrupt:\n",
    "        break\n",
    "\n",
    "print(times)"
   ]
  },
  {
   "cell_type": "code",
   "execution_count": 30,
   "metadata": {
    "collapsed": false
   },
   "outputs": [
    {
     "data": {
      "image/png": "[encoded data removed]",
      "text/plain": [
       "<matplotlib.figure.Figure at 0x10704a080>"
      ]
     },
     "metadata": {},
     "output_type": "display_data"
    }
   ],
   "source": [
    "%matplotlib inline\n",
    "\n",
    "import matplotlib.pyplot as plt\n",
    "\n",
    "plt.bar(range(len(times)), times.values(), align='center')\n",
    "\n",
    "plt.xlabel('#')\n",
    "plt.ylabel('time (s)')\n",
    "plt.title('heapsort execution time')\n",
    "plt.grid(True)\n",
    "plt.show()"
   ]
  },
  {
   "cell_type": "code",
   "execution_count": null,
   "metadata": {
    "collapsed": true
   },
   "outputs": [],
   "source": []
  }
 ],
 "metadata": {
  "kernelspec": {
   "display_name": "Python 3",
   "language": "python",
   "name": "python3"
  },
  "language_info": {
   "codemirror_mode": {
    "name": "ipython",
    "version": 3
   },
   "file_extension": ".py",
   "mimetype": "text/x-python",
   "name": "python",
   "nbconvert_exporter": "python",
   "pygments_lexer": "ipython3",
   "version": "3.4.3"
  }
 },
 "nbformat": 4,
 "nbformat_minor": 2
}
