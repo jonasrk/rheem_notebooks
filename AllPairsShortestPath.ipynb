{
 "cells": [
  {
   "cell_type": "code",
   "execution_count": 1,
   "metadata": {
    "collapsed": true,
    "deletable": true,
    "editable": true
   },
   "outputs": [],
   "source": [
    "graph = {'A': ['B', 'C'],\n",
    "             'B': ['C', 'D'],\n",
    "             'C': ['D'],\n",
    "             'D': ['C'],\n",
    "             'E': ['F'],\n",
    "             'F': ['C']}"
   ]
  },
  {
   "cell_type": "code",
   "execution_count": 52,
   "metadata": {
    "collapsed": false,
    "deletable": true,
    "editable": true
   },
   "outputs": [
    {
     "name": "stdout",
     "output_type": "stream",
     "text": [
      "n_nodes naive: 1:9.5367431640625e-07 seconds\n",
      "n_nodes floyd: 1:1.0013580322265625e-05 seconds\n",
      "n_nodes naive: 2:2.86102294921875e-06 seconds\n",
      "n_nodes floyd: 2:2.4080276489257812e-05 seconds\n",
      "n_nodes naive: 3:1.0013580322265625e-05 seconds\n",
      "n_nodes floyd: 3:2.8133392333984375e-05 seconds\n",
      "n_nodes naive: 4:1.5020370483398438e-05 seconds\n",
      "n_nodes floyd: 4:4.9114227294921875e-05 seconds\n",
      "n_nodes naive: 5:1.5020370483398438e-05 seconds\n",
      "n_nodes floyd: 5:8.296966552734375e-05 seconds\n",
      "n_nodes naive: 6:4.00543212890625e-05 seconds\n",
      "n_nodes floyd: 6:0.00015211105346679688 seconds\n",
      "n_nodes naive: 7:4.076957702636719e-05 seconds\n",
      "n_nodes floyd: 7:0.0002219676971435547 seconds\n",
      "n_nodes naive: 8:7.200241088867188e-05 seconds\n",
      "n_nodes floyd: 8:0.0003180503845214844 seconds\n",
      "n_nodes naive: 9:0.0005390644073486328 seconds\n",
      "n_nodes floyd: 9:0.0004220008850097656 seconds\n",
      "n_nodes naive: 10:0.00041222572326660156 seconds\n",
      "n_nodes floyd: 10:0.000637054443359375 seconds\n",
      "n_nodes naive: 11:0.0015020370483398438 seconds\n",
      "n_nodes floyd: 11:0.0007507801055908203 seconds\n",
      "n_nodes naive: 12:0.0034689903259277344 seconds\n",
      "n_nodes floyd: 12:0.0010020732879638672 seconds\n",
      "n_nodes naive: 13:0.002073049545288086 seconds\n",
      "n_nodes floyd: 13:0.0012540817260742188 seconds\n",
      "n_nodes naive: 14:0.023802995681762695 seconds\n",
      "n_nodes floyd: 14:0.0017278194427490234 seconds\n",
      "n_nodes naive: 15:0.28249382972717285 seconds\n",
      "n_nodes floyd: 15:0.0027360916137695312 seconds\n",
      "n_nodes naive: 16:0.3425920009613037 seconds\n",
      "n_nodes floyd: 16:0.002496004104614258 seconds\n",
      "n_nodes naive: 17:0.3397688865661621 seconds\n",
      "n_nodes floyd: 17:0.002563953399658203 seconds\n",
      "n_nodes naive: 18:3.1209359169006348 seconds\n",
      "n_nodes floyd: 18:0.00339508056640625 seconds\n",
      "n_nodes naive: 19:70.03158688545227 seconds\n",
      "n_nodes floyd: 19:0.003599882125854492 seconds\n",
      "n_nodes naive: 20:62.420814037323 seconds\n",
      "n_nodes floyd: 20:0.0043261051177978516 seconds\n"
     ]
    }
   ],
   "source": [
    "import random\n",
    "import string\n",
    "import itertools\n",
    "import time\n",
    "            \n",
    "# for entry in graph:\n",
    "#     print ('\\n\\n' + entry + '  :  ' +  str(graph[entry]))\n",
    "    \n",
    "def find_shortest_path_naive(graph, start, end, path=[]):\n",
    "    path = path + [start]\n",
    "    if start == end:\n",
    "        return path\n",
    "    if start not in graph:\n",
    "        return None\n",
    "    shortest = None\n",
    "    for node in graph[start]:\n",
    "        if node not in path:\n",
    "            newpath = find_shortest_path(graph, node, end, path)\n",
    "            if newpath:\n",
    "                if not shortest or len(newpath) < len(shortest):\n",
    "                    shortest = newpath\n",
    "    return shortest\n",
    "\n",
    "def floydWarshall(graph):\n",
    "    nodes = graph.keys()\n",
    "\n",
    "    distance = {}\n",
    "\n",
    "    for n in nodes:\n",
    "        distance[n] = {}\n",
    "\n",
    "        for k in nodes:\n",
    "            if k in graph[n]:\n",
    "                distance[n][k] = 1\n",
    "            else:\n",
    "                distance[n][k] = float(\"inf\")\n",
    "\n",
    "    for k in nodes:\n",
    "        for i in nodes:\n",
    "            for j in nodes:\n",
    "                distance[i][j] = min (distance[i][j], distance[i][k] + distance[k][j])\n",
    "                \n",
    "    #print(distance)\n",
    "\n",
    "\n",
    "def build_graph(n_nodes):\n",
    "    nodes = []\n",
    "    name_length = 8\n",
    "    probabiliy = 0.2\n",
    "    \n",
    "    for i in range(n_nodes):\n",
    "        hash = ''.join(random.choice(string.ascii_uppercase + string.digits) for _ in range(name_length))\n",
    "        nodes.append(hash)\n",
    "        \n",
    "    graph = {}\n",
    "    \n",
    "    for node in nodes:\n",
    "        graph[node]= []\n",
    "        for other_node in nodes:\n",
    "            if random.uniform(0.0, 1.0) < probabiliy:\n",
    "                graph[node].append(other_node)\n",
    "                \n",
    "    #print(graph)            \n",
    "    return graph\n",
    "\n",
    "\n",
    "n_nodes = 0\n",
    "times_naive = {}\n",
    "times_floyd = {}\n",
    "while True:\n",
    "    try:\n",
    "        n_nodes = n_nodes + 1\n",
    "        graph = build_graph(n_nodes)\n",
    "        \n",
    "        combinations = itertools.combinations(graph, 2)\n",
    "        \n",
    "        start_time = time.time()\n",
    "        \n",
    "        for combination in combinations:\n",
    "            #print('\\n# Shortest path between: ' + str(combination))\n",
    "            #print(find_shortest_path(graph, combination[0], combination[1]))\n",
    "            find_shortest_path_naive(graph, combination[0], combination[1])\n",
    "            pass\n",
    "            \n",
    "        stopped_time = time.time() - start_time\n",
    "        print(\"n_nodes naive: \" + str(n_nodes) + \":%s seconds\" % stopped_time)\n",
    "        times_naive[n_nodes] = stopped_time\n",
    "        \n",
    "        \n",
    "        start_time = time.time()\n",
    "        floydWarshall(graph)\n",
    "        stopped_time = time.time() - start_time\n",
    "        print(\"n_nodes floyd: \" + str(n_nodes) + \":%s seconds\" % stopped_time)\n",
    "        times_floyd[n_nodes] = stopped_time\n",
    "        \n",
    "    except KeyboardInterrupt:\n",
    "        break\n",
    "        \n",
    "        \n",
    "# Floyd"
   ]
  },
  {
   "cell_type": "code",
   "execution_count": 49,
   "metadata": {
    "collapsed": false,
    "deletable": true,
    "editable": true
   },
   "outputs": [
    {
     "name": "stdout",
     "output_type": "stream",
     "text": [
      "{1: 9.5367431640625e-07, 2: 3.0994415283203125e-06, 3: 5.0067901611328125e-06, 4: 7.867813110351562e-06, 5: 3.0040740966796875e-05, 6: 2.5987625122070312e-05, 7: 3.695487976074219e-05, 8: 7.796287536621094e-05, 9: 0.00031495094299316406, 10: 0.0005609989166259766, 11: 0.0010809898376464844, 12: 0.014372110366821289, 13: 0.002110004425048828, 14: 0.01454615592956543, 15: 0.1343679428100586, 16: 0.4520299434661865, 17: 1.6338441371917725, 18: 1.3858599662780762}\n",
      "{1: 1.3113021850585938e-05, 2: 1.2874603271484375e-05, 3: 5.1021575927734375e-05, 4: 4.9114227294921875e-05, 5: 9.799003601074219e-05, 6: 0.00014400482177734375, 7: 0.00022602081298828125, 8: 0.0003349781036376953, 9: 0.0004878044128417969, 10: 0.0009109973907470703, 11: 0.0007658004760742188, 12: 0.0012359619140625, 13: 0.0012288093566894531, 14: 0.0014710426330566406, 15: 0.0017600059509277344, 16: 0.0021321773529052734, 17: 0.0030379295349121094, 18: 0.0030770301818847656}\n"
     ]
    }
   ],
   "source": [
    "print(times_naive)\n",
    "print(times_floyd)"
   ]
  },
  {
   "cell_type": "code",
   "execution_count": 51,
   "metadata": {
    "collapsed": false,
    "deletable": true,
    "editable": true
   },
   "outputs": [
    {
     "data": {
      "image/png": "[encoded data removed]",
      "text/plain": [
       "<matplotlib.figure.Figure at 0x103a6fef0>"
      ]
     },
     "metadata": {},
     "output_type": "display_data"
    },
    {
     "data": {
      "image/png": "[encoded data removed]",
      "text/plain": [
       "<matplotlib.figure.Figure at 0x1039beac8>"
      ]
     },
     "metadata": {},
     "output_type": "display_data"
    }
   ],
   "source": [
    "%matplotlib inline\n",
    "\n",
    "import matplotlib.pyplot as plt\n",
    "\n",
    "plt.bar(range(len(times_naive)), times_naive.values(), align='center')\n",
    "\n",
    "plt.xlabel('# nodes')\n",
    "plt.ylabel('time (s)')\n",
    "plt.title('APSPP execution time - naive')\n",
    "plt.grid(True)\n",
    "plt.show()\n",
    "\n",
    "plt.bar(range(len(times_floyd)), times_floyd.values(), align='center')\n",
    "\n",
    "plt.xlabel('# nodes')\n",
    "plt.ylabel('time (s)')\n",
    "plt.title('APSPP execution time - floyd')\n",
    "plt.grid(True)\n",
    "plt.show()"
   ]
  },
  {
   "cell_type": "code",
   "execution_count": 91,
   "metadata": {
    "collapsed": true,
    "deletable": true,
    "editable": true
   },
   "outputs": [],
   "source": [
    "# Floyd Warshal"
   ]
  },
  {
   "cell_type": "code",
   "execution_count": 17,
   "metadata": {
    "collapsed": false,
    "deletable": true,
    "editable": true
   },
   "outputs": [
    {
     "name": "stdout",
     "output_type": "stream",
     "text": [
      "{'node_10': {'node_10': 1, 'node_9': 1, 'node_7': 1, 'node_5': 1, 'node_8': 1, 'node_4': 1, 'node_6': 1}, 'node_9': {'node_10': 1, 'node_9': 1, 'node_7': 1, 'node_5': 1, 'node_8': 1, 'node_4': 1, 'node_6': 1}, 'node_7': {'node_10': 1, 'node_9': 1, 'node_7': 1, 'node_5': 1, 'node_8': 1, 'node_4': 1, 'node_6': 1}, 'node_5': {'node_10': 1, 'node_9': 1, 'node_7': 1, 'node_5': 1, 'node_8': 1, 'node_4': 1, 'node_6': 1}, 'node_8': {'node_10': 1, 'node_9': 1, 'node_7': 1, 'node_5': 1, 'node_8': 1, 'node_4': 1, 'node_6': 1}, 'node_4': {'node_10': 1, 'node_9': 1, 'node_7': 1, 'node_5': 1, 'node_8': 1, 'node_4': 1, 'node_6': 1}, 'node_6': {'node_10': 1, 'node_9': 1, 'node_7': 1, 'node_5': 1, 'node_8': 1, 'node_4': 1, 'node_6': 1}}\n"
     ]
    }
   ],
   "source": []
  },
  {
   "cell_type": "code",
   "execution_count": null,
   "metadata": {
    "collapsed": true
   },
   "outputs": [],
   "source": []
  }
 ],
 "metadata": {
  "kernelspec": {
   "display_name": "Python 3",
   "language": "python",
   "name": "python3"
  },
  "language_info": {
   "codemirror_mode": {
    "name": "ipython",
    "version": 3
   },
   "file_extension": ".py",
   "mimetype": "text/x-python",
   "name": "python",
   "nbconvert_exporter": "python",
   "pygments_lexer": "ipython3",
   "version": "3.4.3"
  }
 },
 "nbformat": 4,
 "nbformat_minor": 2
}
